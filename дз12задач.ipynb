{
 "cells": [
  {
   "cell_type": "code",
   "execution_count": 1,
   "id": "d11d66fb",
   "metadata": {},
   "outputs": [
    {
     "name": "stdout",
     "output_type": "stream",
     "text": [
      "Enter your name\n",
      "v\n",
      "Enter your age\n",
      "3\n",
      "Enter how many times you want to see the line\n",
      "5\n",
      "v you will turn 100 years old in 2119\n",
      "v you will turn 100 years old in 2119\n",
      "v you will turn 100 years old in 2119\n",
      "v you will turn 100 years old in 2119\n",
      "v you will turn 100 years old in 2119\n"
     ]
    }
   ],
   "source": [
    "'''1. Create a program that asks the user to enter their name and their age. \n",
    "Print out a message addressed to them that tells them the year that they will turn 100 years old. \n",
    "Note: for this exercise, the expectation is that you explicitly write out the year (and therefore be out of date \n",
    "the next year). If you want to do this in a generic way, see exercise 39.\n",
    "\n",
    "Extras:\n",
    "\n",
    "Add on to the previous program by asking the user for another number and printing out that many copies of \n",
    "the previous message. (Hint: order of operations exists in Python)\n",
    "Print out that many copies of the previous message on separate lines. (Hint: the string \"\\n is the same as\n",
    "pressing the ENTER button)'''\n",
    "\n",
    "print('Enter your name')\n",
    "a = input()\n",
    "print('Enter your age')\n",
    "age = int(input())\n",
    "print('Enter how many times you want to see the line')\n",
    "number = int(input())\n",
    "year = 2022+(100-age)\n",
    "for i in range(number):\n",
    "    print(a, 'you will turn 100 years old in', year)"
   ]
  },
  {
   "cell_type": "code",
   "execution_count": 55,
   "id": "01af24fe",
   "metadata": {},
   "outputs": [
    {
     "name": "stdout",
     "output_type": "stream",
     "text": [
      "Enter any number\n",
      "2\n",
      "The number is even\n"
     ]
    }
   ],
   "source": [
    "'''2. Ask the user for a number. Depending on whether the number is even or odd, print out an appropriate message \n",
    "to the user. Hint: how does an even / odd number react differently when divided by 2?\n",
    "\n",
    "Extras:\n",
    "\n",
    "If the number is a multiple of 4, print out a different message.\n",
    "Ask the user for two numbers: one number to check (call it num) and one number to divide by (check). \n",
    "If check divides evenly into num, tell that to the user. If not, print a different appropriate message.'''\n",
    "\n",
    "print('Enter any number')\n",
    "number = int(input())\n",
    "if number%4==0:\n",
    "    print('The number is a multiple of 4')\n",
    "elif number%2==0:\n",
    "    print('The number is even')\n",
    "else:\n",
    "    print('The number is odd')"
   ]
  },
  {
   "cell_type": "code",
   "execution_count": 59,
   "id": "cb051e58",
   "metadata": {},
   "outputs": [
    {
     "name": "stdout",
     "output_type": "stream",
     "text": [
      "Enter two numbers\n",
      "4\n",
      "16\n",
      "16 divides evenly into 4\n"
     ]
    }
   ],
   "source": [
    "print('Enter two numbers')\n",
    "num = int(input())\n",
    "check = int(input())\n",
    "if check%num==0:\n",
    "    print(check, 'divides evenly into', num)\n",
    "else: \n",
    "    print(check, 'does not divide evenly into', num)"
   ]
  },
  {
   "cell_type": "code",
   "execution_count": 63,
   "id": "858de868",
   "metadata": {},
   "outputs": [
    {
     "name": "stdout",
     "output_type": "stream",
     "text": [
      "enter a number\n",
      "14\n",
      "[1, 1, 2, 3, 5, 8, 13]\n"
     ]
    }
   ],
   "source": [
    "'''3. Take a list, say for example this one:\n",
    "\n",
    "  a = [1, 1, 2, 3, 5, 8, 13, 21, 34, 55, 89]\n",
    "and write a program that prints out all the elements of the list that are less than 5.\n",
    "\n",
    "Extras:\n",
    "\n",
    "Instead of printing the elements one by one, make a new list that has all the elements less than 5 from this list \n",
    "in it and print out this new list.\n",
    "Write this in one line of Python.\n",
    "Ask the user for a number and return a list that contains only elements from the original list a that are smaller\n",
    "than that number given by the user.'''\n",
    "\n",
    "print('enter a number')\n",
    "num = int(input())\n",
    "a = [1, 1, 2, 3, 5, 8, 13, 21, 34, 55, 89]\n",
    "nlist = []\n",
    "for i in range(10):\n",
    "    if a[i]<num:\n",
    "        nlist.append(a[i])\n",
    "print(nlist)"
   ]
  },
  {
   "cell_type": "code",
   "execution_count": 65,
   "id": "c80f184e",
   "metadata": {},
   "outputs": [
    {
     "name": "stdout",
     "output_type": "stream",
     "text": [
      "enter a number\n",
      "21\n",
      "1\n",
      "3\n",
      "7\n",
      "21\n"
     ]
    }
   ],
   "source": [
    "'''4. Create a program that asks the user for a number and then prints out a list of all the divisors of that \n",
    "number. (If you don’t know what a divisor is, it is a number that divides evenly into another number. For example, \n",
    "13 is a divisor of 26 because 26 / 13 has no remainder.)'''\n",
    "\n",
    "print('enter a number')\n",
    "num = int(input())\n",
    "for i in range(1, num+1):\n",
    "    if num%i==0:\n",
    "        print(i)"
   ]
  },
  {
   "cell_type": "code",
   "execution_count": 73,
   "id": "bfcd55d6",
   "metadata": {},
   "outputs": [
    {
     "name": "stdout",
     "output_type": "stream",
     "text": [
      "[1, 2, 3, 5, 8, 13]\n"
     ]
    }
   ],
   "source": [
    "'''5. Take two lists, say for example these two:\n",
    "\n",
    "  a = [1, 1, 2, 3, 5, 8, 13, 21, 34, 55, 89]\n",
    "  b = [1, 2, 3, 4, 5, 6, 7, 8, 9, 10, 11, 12, 13]\n",
    "and write a program that returns a list that contains only the elements that are common between the lists (without \n",
    "duplicates). Make sure your program works on two lists of different sizes.\n",
    "\n",
    "Extras:\n",
    "\n",
    "Randomly generate two lists to test this  ???\n",
    "Write this in one line of Python (don’t worry if you can’t figure this out at this point - we’ll get to it soon)'''\n",
    "\n",
    "a = [1, 1, 2, 3, 5, 8, 13, 21, 34, 55, 89]\n",
    "b = [1, 2, 3, 4, 5, 6, 7, 8, 9, 10, 11, 12, 13]\n",
    "nlist = []\n",
    "for i in range(len(a)):       #for i in a: a[i] - ?\n",
    "    if a[i]!= a[i-1]:\n",
    "        for k in range(len(b)):\n",
    "            if a[i]==b[k]:\n",
    "                nlist.append(b[k])\n",
    "print(nlist)\n",
    "            "
   ]
  },
  {
   "cell_type": "code",
   "execution_count": 34,
   "id": "8265de80",
   "metadata": {
    "scrolled": true
   },
   "outputs": [
    {
     "name": "stdout",
     "output_type": "stream",
     "text": [
      "rtyytr\n",
      "palindrome\n"
     ]
    }
   ],
   "source": [
    "'''6. Ask the user for a string and print out whether this string is a palindrome or not. \n",
    "(A palindrome is a string that reads the same forwards and backwards.)'''\n",
    "\n",
    "a = input()\n",
    "nlist = [0]\n",
    "olist =[0]\n",
    "for i in range(len(a)):\n",
    "    if a[i] != ' ':\n",
    "        nlist.append(a[i])  \n",
    "for k in range(len(nlist)-1,0,-1):             \n",
    "    olist.append(nlist[k])\n",
    "if olist==nlist:\n",
    "    print('palindrome')\n",
    "else:\n",
    "     print('it is not a palindrome')\n",
    "   \n",
    "    "
   ]
  },
  {
   "cell_type": "code",
   "execution_count": 31,
   "id": "e47bb0f7",
   "metadata": {},
   "outputs": [
    {
     "name": "stdout",
     "output_type": "stream",
     "text": [
      "[4, 16, 36, 64, 100]\n"
     ]
    }
   ],
   "source": [
    "'''7. Let’s say I give you a list saved in a variable: a = [1, 4, 9, 16, 25, 36, 49, 64, 81, 100]. \n",
    "Write one line of Python that takes this list a and makes a new list that has only the even elements of this list \n",
    "in it. '''\n",
    "\n",
    "a = [1, 4, 9, 16, 25, 36, 49, 64, 81, 100]\n",
    "nlist = []\n",
    "for i in range(len(a)):\n",
    "    if a[i]%2==0:\n",
    "        nlist.append(a[i])\n",
    "print(nlist)\n",
    "\n"
   ]
  },
  {
   "cell_type": "code",
   "execution_count": null,
   "id": "0972cdf2",
   "metadata": {},
   "outputs": [],
   "source": [
    "'''8. Make a two-player Rock-Paper-Scissors game. (Hint: Ask for player plays (using input), compare them, print out\n",
    "a message of congratulations to the winner, and ask if the players want to start a new game)\n",
    "\n",
    "Remember the rules:\n",
    "\n",
    "Rock beats scissors\n",
    "Scissors beats paper\n",
    "Paper beats rock'''\n",
    "\n",
    "def game():\n",
    "    print('enter Rock/Paper/Scissors')\n",
    "    a = input()\n",
    "    b = input()\n",
    "    if (a=='Rock' and b=='Scissors') or (a=='Paper' and b=='Rock') or (a=='Scissors' and b=='Paper'):\n",
    "        print('The first player wins')\n",
    "    elif a==b:\n",
    "        print('drawn game')\n",
    "    else:\n",
    "        print('The second player wins')\n",
    "    print ('Do you want to play one more time?')\n",
    "    answer = input()  \n",
    "    if answer == 'yes':\n",
    "        game()\n",
    "game()\n",
    "\n",
    "    "
   ]
  },
  {
   "cell_type": "code",
   "execution_count": 5,
   "id": "5654aa95",
   "metadata": {},
   "outputs": [
    {
     "name": "stdout",
     "output_type": "stream",
     "text": [
      "Enter a number between 1 and 9 (including 1 and 9)\n",
      "5\n",
      "too high\n",
      "4\n",
      "too high\n",
      "3\n",
      "right\n",
      "You have made 3 guesses\n",
      "Do you want to play one more time?\n",
      "exit\n"
     ]
    }
   ],
   "source": [
    "'''9. Generate a random number between 1 and 9 (including 1 and 9). Ask the user to guess the number, then tell \n",
    "them whether they guessed too low, too high, or exactly right. (Hint: remember to use the user input lessons from the \n",
    "very first exercise)\n",
    "\n",
    "Extras:\n",
    "\n",
    "Keep the game going until the user types “exit”\n",
    "Keep track of how many guesses the user has taken, and when the game ends, print this out.'''\n",
    "\n",
    "\n",
    "import random \n",
    "\n",
    "def guess():\n",
    "    a = random.randint(1,9)\n",
    "    print('Enter a number between 1 and 9 (including 1 and 9)')\n",
    "    num = int(input())\n",
    "    k = 1\n",
    "    while num != a:\n",
    "        k += 1\n",
    "        if num < a:\n",
    "            print('too low')\n",
    "        else:\n",
    "            print('too high')\n",
    "        num = int(input())\n",
    "    print('right')\n",
    "    print('You have made', k, 'guesses')\n",
    "    print('Do you want to play one more time?')\n",
    "    ans = input()\n",
    "    if ans != 'exit':\n",
    "          guess()\n",
    "guess()"
   ]
  },
  {
   "cell_type": "code",
   "execution_count": null,
   "id": "be404bf2",
   "metadata": {},
   "outputs": [],
   "source": [
    "'''11. Ask the user for a number and determine whether the number is prime or not. (For those who have forgotten, a \n",
    "prime number is a number that has no divisors.). You can (and should!) use your answer to Exercise 4 to help you.\n",
    "Take this opportunity to practice using functions, described below.'''\n",
    "\n",
    "print('enter a number')\n",
    "num = int(input())\n",
    "k=0\n",
    "for i in range(2, num):\n",
    "    if num%i==0:\n",
    "        k+=1\n",
    "        break\n",
    "if k==0:\n",
    "    print('the number is prime')\n",
    "else:\n",
    "     print('the number is not prime')\n",
    "    \n"
   ]
  },
  {
   "cell_type": "code",
   "execution_count": 8,
   "id": "887e070c",
   "metadata": {},
   "outputs": [
    {
     "name": "stdout",
     "output_type": "stream",
     "text": [
      "3\n",
      "1\n",
      "2\n",
      "3\n",
      "[1, 3]\n"
     ]
    }
   ],
   "source": [
    "'''12. Write a program that takes a list of numbers (for example, a = [5, 10, 15, 20, 25]) and makes a new list of \n",
    "only the first and last elements of the given list. For practice, write this code inside a function.'''\n",
    "\n",
    "# как сичтывать список без длины\n",
    "leng = int(input())\n",
    "lis = []\n",
    "for i in range(leng):\n",
    "    t = int(input())\n",
    "    lis.append(t)\n",
    "nlis = [lis[0], lis[leng-1]]\n",
    "print(nlis)\n"
   ]
  },
  {
   "cell_type": "code",
   "execution_count": 11,
   "id": "f0b867e5",
   "metadata": {},
   "outputs": [
    {
     "name": "stdout",
     "output_type": "stream",
     "text": [
      "1 2 3\n",
      "['1', '3']\n"
     ]
    }
   ],
   "source": [
    "a = input()\n",
    "nlis = [a[0], a[len(a)-1]]\n",
    "print(nlis)"
   ]
  },
  {
   "cell_type": "code",
   "execution_count": null,
   "id": "fd0444af",
   "metadata": {},
   "outputs": [],
   "source": []
  }
 ],
 "metadata": {
  "kernelspec": {
   "display_name": "Python 3 (ipykernel)",
   "language": "python",
   "name": "python3"
  },
  "language_info": {
   "codemirror_mode": {
    "name": "ipython",
    "version": 3
   },
   "file_extension": ".py",
   "mimetype": "text/x-python",
   "name": "python",
   "nbconvert_exporter": "python",
   "pygments_lexer": "ipython3",
   "version": "3.9.12"
  }
 },
 "nbformat": 4,
 "nbformat_minor": 5
}
